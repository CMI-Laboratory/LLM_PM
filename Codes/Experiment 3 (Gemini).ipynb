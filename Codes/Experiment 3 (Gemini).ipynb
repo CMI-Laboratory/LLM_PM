{
 "cells": [
  {
   "cell_type": "code",
   "execution_count": null,
   "id": "87a5a598",
   "metadata": {},
   "outputs": [],
   "source": [
    "import pandas as pd\n",
    "import numpy as np\n",
    "import os\n",
    "import time\n",
    "import datetime\n",
    "from openai import OpenAI\n",
    "import pymssql\n",
    "import re\n",
    "import matplotlib.pyplot as plt\n",
    "from scipy.stats import pearsonr\n",
    "from threading import Thread\n",
    "import functools\n",
    "from tableone import TableOne\n",
    "from scipy import stats\n",
    "from scipy.stats import shapiro\n",
    "from scipy.stats import mannwhitneyu as mwu\n",
    "from lifelines import KaplanMeierFitter\n",
    "from lifelines.statistics import logrank_test\n",
    "from lifelines.statistics import multivariate_logrank_test\n",
    "from sksurv.nonparametric import kaplan_meier_estimator\n",
    "from sklearn.metrics import roc_curve, auc\n",
    "import random\n",
    "from threading import Thread\n",
    "import functools\n",
    "import google.generativeai as genai\n",
    "\n",
    "conn = pymssql.connect(host=, database=, charset=) # enter pymssql connection info\n",
    "genai.configure(api_key=\"\") # enter google cloud api key"
   ]
  },
  {
   "cell_type": "code",
   "execution_count": null,
   "id": "bd848564",
   "metadata": {},
   "outputs": [],
   "source": [
    "generation_config = {\n",
    "  \"temperature\": 0,\n",
    "  \"top_p\": 0.95,\n",
    "  \"top_k\": 40,\n",
    "  \"max_output_tokens\": 8192,\n",
    "  \"response_mime_type\": \"text/plain\",\n",
    "}"
   ]
  },
  {
   "cell_type": "code",
   "execution_count": null,
   "id": "42d58023",
   "metadata": {},
   "outputs": [],
   "source": [
    "rand_df_temp=pd.read_csv('20241018_gptderived_FSRP_testdf.csv')\n",
    "rand_df_temp=rand_df_temp.iloc[:20000]\n",
    "rand_df=rand_df_temp.copy()\n",
    "for i in range(9):\n",
    "    rand_df=pd.concat([rand_df,rand_df_temp])\n",
    "rand_df.reset_index(inplace=True,drop=True)\n",
    "rand_df['eid']=range(200000)"
   ]
  },
  {
   "cell_type": "code",
   "execution_count": null,
   "id": "0860150d",
   "metadata": {},
   "outputs": [],
   "source": [
    "usercontent_global1='''Estimate the risk (in percentages) of developing stroke within 10 years for the person below.\n",
    "'''\n",
    "usercontent_global2='''\n",
    "\n",
    "Please answer exactly in the format below, without blank lines, and no further information or answer is required.\n",
    "Risk percentage=(in percentages, round to one decimal place)'''\n",
    "\n",
    "input_text=rand_df['input_text']\n",
    "eid=rand_df['eid']\n",
    "\n",
    "def timeout(timeout):\n",
    "    def deco(func):\n",
    "        @functools.wraps(func)\n",
    "        def wrapper(*args, **kwargs):\n",
    "            res = [Exception('function [%s] timeout [%s seconds] exceeded!' % (func.__name__, timeout))]\n",
    "            def newFunc():\n",
    "                try:\n",
    "                    res[0] = func(*args, **kwargs)\n",
    "                except Exception as e:\n",
    "                    res[0] = e\n",
    "            t = Thread(target=newFunc)\n",
    "            t.daemon = True\n",
    "            try:\n",
    "                t.start()\n",
    "                t.join(timeout)\n",
    "            except Exception as je:\n",
    "                print ('error starting thread')\n",
    "                raise je\n",
    "            ret = res[0]\n",
    "            #if isinstance(ret, BaseException):\n",
    "            #    raise ret\n",
    "            return ret\n",
    "        return wrapper\n",
    "    return deco\n",
    "\n",
    "@timeout(0.1)\n",
    "def ChatGPT_main(i,temper,responsenum):\n",
    "    if input_text[i]!='':\n",
    "        try:\n",
    "            usercontent=usercontent_global1\n",
    "            usercontent+=input_text[i]\n",
    "            usercontent+=usercontent_global2\n",
    "\n",
    "            model = genai.GenerativeModel(\n",
    "              model_name=\"gemini-1.5-pro-002\",\n",
    "              generation_config=generation_config,\n",
    "            )\n",
    "\n",
    "            chat_session = model.start_chat(\n",
    "              history=[\n",
    "              ]\n",
    "            )\n",
    "            \n",
    "            response = chat_session.send_message(usercontent)\n",
    "            responsetext=response.text\n",
    "            #print(responsetext)\n",
    "            \n",
    "            for j in range(1):\n",
    "            #print(aa)\n",
    "                temp1='blank'\n",
    "                temp2=responsetext.split('=')[1]\n",
    "                temp3='blank'\n",
    "                temp4='blank'\n",
    "                temp5='blank'\n",
    "                \n",
    "                conn = pymssql.connect(host=, database=, charset=) # enter pymssql connection info\n",
    "                with conn:\n",
    "                    with conn.cursor() as cur:\n",
    "                        cur.execute(sql, (str(eid[i]),temp1,temp2,temp3,temp4,temp5))\n",
    "                        conn.commit()\n",
    "\n",
    "        except:\n",
    "            temp1=np.nan\n",
    "            temp2=np.nan\n",
    "            temp3=np.nan\n",
    "            temp4=np.nan\n",
    "            temp5=np.nan\n",
    "            \n",
    "    else:\n",
    "        temp1=np.nan\n",
    "        temp2=np.nan\n",
    "        temp3=np.nan\n",
    "        temp4=np.nan\n",
    "        temp5=np.nan\n",
    "        \n"
   ]
  },
  {
   "cell_type": "code",
   "execution_count": null,
   "id": "b7d891c8",
   "metadata": {
    "scrolled": true
   },
   "outputs": [],
   "source": [
    "responsenumnumnum=1\n",
    "for experimentnum in range(1,2):\n",
    "    print('=========================================================')\n",
    "    print('experimentnum',experimentnum)\n",
    "    input_text=rand_df['input_text']\n",
    "    ############################\n",
    "    table_name=\"20241029_GEMINI_stroke1\"\n",
    "    iterations=1\n",
    "    upto=200000\n",
    "    ############################\n",
    "    for temper in [0.0]:\n",
    "        time1=datetime.datetime.now()\n",
    "        while True:\n",
    "            toggle=0\n",
    "            for i in range(iterations):   \n",
    "                newtablaname=table_name + '_' + str(int(experimentnum)) + '_' + str(i)\n",
    "                try:\n",
    "                    sql_createtable=\"CREATE TABLE [\" + newtablaname +\"\"\"] \n",
    "                    (\n",
    "                        eid    NVARCHAR(20),\n",
    "                        system    NVARCHAR(max),\n",
    "                        score      NVARCHAR(max),\n",
    "                        category     NVARCHAR(max) ,\n",
    "                        framingham  NVARCHAR(20),\n",
    "                        ACC_AHA  NVARCHAR(20)\n",
    "                    )\n",
    "\n",
    "                    \"\"\"\n",
    "                    conn = pymssql.connect(host=, database=, charset=) # enter pymssql connection info\n",
    "                    with conn:\n",
    "                        with conn.cursor() as cur:\n",
    "                            cur.execute(sql_createtable)\n",
    "                            conn.commit()\n",
    "                    time.sleep(1)  \n",
    "                except:\n",
    "                    pass\n",
    "\n",
    "                sql_statement=\"select * from [\"+ newtablaname + \"]\"\n",
    "                conn = pymssql.connect(host=, database=, charset=) # enter pymssql connection info\n",
    "                datasql = pd.read_sql(sql=sql_statement, con=conn)\n",
    "                datasql=datasql.astype({'eid':int})\n",
    "                cnt_df=datasql.groupby('eid')['score'].count()\n",
    "                tempcount=0\n",
    "                for j in range(upto):\n",
    "                    try:\n",
    "                        cnt=cnt_df[j]\n",
    "                        if cnt<responsenumnumnum:\n",
    "                            addcnt=int(responsenumnumnum-cnt)\n",
    "                            sql = \"INSERT INTO [\" + newtablaname+\"] (eid, system,score,category,framingham,ACC_AHA) VALUES (%s, %s, %s, %s, %s, %s)\"\n",
    "                            ChatGPT_main(j,temper,addcnt)\n",
    "                            tempcount+=1\n",
    "\n",
    "                    except:\n",
    "                        sql = \"INSERT INTO [\" + newtablaname+\"] (eid, system,score,category,framingham,ACC_AHA) VALUES (%s, %s, %s, %s, %s, %s)\"\n",
    "                        ChatGPT_main(j,temper,responsenumnumnum)\n",
    "                        tempcount+=1\n",
    "                    if j%100==0:\n",
    "                        print(j)\n",
    "\n",
    "                if tempcount==0:\n",
    "                    toggle=1\n",
    "            if toggle==1:\n",
    "                break\n",
    "            time.sleep(20)\n",
    "\n",
    "        time.sleep(20)\n",
    "\n",
    "\n",
    "        time2=datetime.datetime.now()\n",
    "        print(time2-time1)\n",
    "        #print('except_else_num = ',except_else_num)"
   ]
  },
  {
   "cell_type": "code",
   "execution_count": null,
   "id": "b1b81e9b",
   "metadata": {},
   "outputs": [],
   "source": [
    "table_name=\"20241029_GEMINI_stroke1\""
   ]
  },
  {
   "cell_type": "code",
   "execution_count": null,
   "id": "7f82210c",
   "metadata": {},
   "outputs": [],
   "source": [
    "gpt_cindex=[]\n",
    "validnum=[]\n",
    "for experimentnum in range(1,2):\n",
    "    print('=========================================================')\n",
    "    print('experimentnum',experimentnum)\n",
    "    #rand_df=pd.read_csv('20241023_eGFR_synthetic_20000.csv')\n",
    "    input_text=rand_df['input_text']\n",
    "    ############################\n",
    "    #table_name=\"20241029_GEMINI_eGFR3\"\n",
    "    iterations=1\n",
    "    upto=200000\n",
    "    ############################\n",
    "    resultsdf=pd.DataFrame(columns=['validnum','age', 'HDL', 'LDL', 'TG', 'HbA1c', 'Cr', 'Urate', 'CRP', 'SBP', 'DBP', 'BMI', 'WHratio', 'sex', 'HTN', 'DM', 'Dyslipidemia', 'Afib', 'CKD', 'CVDfamily', 'smoking','avg_gpt_score','c-index gpt','c-index acc/aha','c-index framingham'])\n",
    "\n",
    "\n",
    "    for temper in [0.0]:\n",
    "        templist=[]\n",
    "        print('=========temperature========',temper)\n",
    "        for i in range(iterations):\n",
    "            newtablename=table_name + '_' + str(int(experimentnum)) + '_' + str(i)\n",
    "\n",
    "            sql_statement=\"select * from [\"+ newtablename + \"]\"\n",
    "            conn = pymssql.connect(host=, database=, charset=) # enter pymssql connection info\n",
    "            globals()['data{}'.format(i)] = pd.read_sql(sql=sql_statement, con=conn)\n",
    "\n",
    "\n",
    "        for j in range(iterations):\n",
    "            dat=globals()['data{}'.format(j)]\n",
    "\n",
    "            eid=dat['eid']\n",
    "            score_gpt=dat['score']\n",
    "            category=dat['category']\n",
    "            score_framingham=dat['framingham']\n",
    "            score_acc_aha=dat['ACC_AHA']\n",
    "\n",
    "            score_gpt2=[]\n",
    "\n",
    "            for i in range(len(score_gpt)):\n",
    "                try:\n",
    "                    score_gpt2.append(float(re.findall(\"\\d+[.]\\d+[%]\",score_gpt[i])[0].split('%')[0]))\n",
    "                except:\n",
    "                    try:\n",
    "                        score_gpt2.append(float(re.findall(\"\\d+[%]\",score_gpt[i])[0].split('%')[0]))\n",
    "                    except:\n",
    "                        try:\n",
    "                            score_gpt2.append(float(re.findall(\"\\d+[.]\\d+\",score_gpt[i])[0]))\n",
    "                        except:\n",
    "                            try:\n",
    "                                score_gpt2.append(float(re.findall(\"\\d+\",score_gpt[i])[-1]))\n",
    "                            except:\n",
    "                                score_gpt2.append(np.nan)\n",
    "                                #score_gpt2.append(float(score_framingham[i]))\n",
    "                                #print(score_gpt[i],'====')\n",
    "\n",
    "\n",
    "        data_final=pd.DataFrame({'eid':data0['eid'],'score':score_gpt2})\n",
    "        data_final['eid']=data_final['eid'].astype(int)\n",
    "        print(len(data_final))\n",
    "        data_final=data_final.dropna()\n",
    "        data_final.reset_index(inplace=True,drop=True)\n"
   ]
  },
  {
   "cell_type": "code",
   "execution_count": null,
   "id": "e6cf3d90",
   "metadata": {},
   "outputs": [],
   "source": [
    "data_final=pd.DataFrame({'eid':data0['eid'],'score':score_gpt2})\n",
    "data_final['eid']=data_final['eid'].astype(int)\n",
    "print(len(data_final))\n",
    "data_final=data_final.dropna()\n",
    "data_final.reset_index(inplace=True,drop=True)\n",
    "data_final"
   ]
  },
  {
   "cell_type": "code",
   "execution_count": null,
   "id": "d6f01a67",
   "metadata": {},
   "outputs": [],
   "source": [
    "data_final=pd.DataFrame({'eid':data0['eid'],'score':score_gpt2})\n",
    "data_final['eid']=data_final['eid'].astype(int)\n",
    "print(len(data_final))\n",
    "data_final=data_final.dropna()\n",
    "data_final.reset_index(inplace=True,drop=True)\n",
    "\n",
    "rand_df_temp=pd.read_csv('20241018_gptderived_FSRP_testdf.csv')\n",
    "rand_df_temp=rand_df_temp.iloc[:20000]\n",
    "rand_df=rand_df_temp.copy()\n",
    "for i in range(9):\n",
    "    rand_df=pd.concat([rand_df,rand_df_temp])\n",
    "rand_df.reset_index(inplace=True,drop=True)\n",
    "rand_df['eid']=range(200000)\n",
    "\n",
    "#data_final_groupmean=data_final.groupby(['eid'],as_index=False).mean()\n",
    "#df_merged=pd.merge(data_final_groupmean,rand_df,how='inner',on='eid')\n",
    "df_merged=pd.merge(data_final,rand_df,how='inner',on='eid')\n",
    "print(len(df_merged))"
   ]
  },
  {
   "cell_type": "code",
   "execution_count": null,
   "id": "e6a7baae",
   "metadata": {},
   "outputs": [],
   "source": [
    "df_merged.drop(['input_text'],axis=1,inplace=True)"
   ]
  },
  {
   "cell_type": "code",
   "execution_count": null,
   "id": "1f26e8b1",
   "metadata": {},
   "outputs": [],
   "source": [
    "len(df_merged)"
   ]
  },
  {
   "cell_type": "code",
   "execution_count": null,
   "id": "8ea05ee0",
   "metadata": {},
   "outputs": [],
   "source": [
    "smoking_ex=[]\n",
    "smoking_current=[]\n",
    "for i in range(len(df_merged)):\n",
    "    if df_merged['smoking'][i]==2:\n",
    "        smoking_current.append(1)\n",
    "        smoking_ex.append(0)\n",
    "    elif df_merged['smoking'][i]==1:\n",
    "        smoking_current.append(0)\n",
    "        smoking_ex.append(1)\n",
    "    else:\n",
    "        smoking_current.append(0)\n",
    "        smoking_ex.append(0)\n",
    "        \n",
    "df_merged.drop(['smoking'],axis=1,inplace=True)\n",
    "df_merged['smoking_ex']=smoking_ex\n",
    "df_merged['smoking_current']=smoking_current"
   ]
  },
  {
   "cell_type": "code",
   "execution_count": null,
   "id": "20fc47c5",
   "metadata": {},
   "outputs": [],
   "source": [
    "from sklearn.linear_model import LinearRegression\n",
    "columnslisttemp=list(df_merged.columns)\n",
    "columnslisttemp=columnslisttemp[2:]\n",
    "\n",
    "print(columnslisttemp)\n",
    "#X=df_merged[['age','sex','HDL','LDL','TG','Chol','SBP','DBP','BMI','HTN','DM','smoking']]\n",
    "X=df_merged[columnslisttemp]\n",
    "y=df_merged['score']\n",
    "\n",
    "line_fitter = LinearRegression()\n",
    "line_fitter.fit(X, y)"
   ]
  },
  {
   "cell_type": "code",
   "execution_count": null,
   "id": "72d0c2da",
   "metadata": {},
   "outputs": [],
   "source": [
    "line_fitter.coef_"
   ]
  },
  {
   "cell_type": "code",
   "execution_count": null,
   "id": "2dd62279",
   "metadata": {},
   "outputs": [],
   "source": [
    "X2=X.copy()\n",
    "X2['y']=y\n",
    "X2.to_csv('20241029_GEMINI_stroke_R.csv',index=False)"
   ]
  },
  {
   "cell_type": "code",
   "execution_count": null,
   "id": "04c7382c",
   "metadata": {},
   "outputs": [],
   "source": [
    "len(X2)"
   ]
  },
  {
   "cell_type": "markdown",
   "id": "a154ba7c",
   "metadata": {},
   "source": [
    "# loading UKB"
   ]
  },
  {
   "cell_type": "code",
   "execution_count": null,
   "id": "396944c8",
   "metadata": {},
   "outputs": [],
   "source": [
    "#df_final_temp=pd.read_csv('20231122_df_final.csv')\n",
    "df_final_temp=pd.read_csv('20241018_df_final_pastCVDnotexcluded.csv')"
   ]
  },
  {
   "cell_type": "code",
   "execution_count": null,
   "id": "160b829d",
   "metadata": {},
   "outputs": [],
   "source": [
    "columnslist=[]\n",
    "\n",
    "columnslist.append('age')\n",
    "columnslist.append('sex')\n",
    "columnslist.append('total_chol')\n",
    "columnslist.append('HDL')\n",
    "columnslist.append('LDL')\n",
    "columnslist.append('TG')\n",
    "columnslist.append('SBP')\n",
    "columnslist.append('DBP')\n",
    "columnslist.append('med_final')\n",
    "columnslist.append('DM_final')\n",
    "columnslist.append('BMI_x')\n",
    "columnslist.append('cig_final')\n",
    "columnslist.append('E78_dyslipidemia_binary')\n",
    "columnslist.append('I48_afib_binary')\n",
    "columnslist.append('N18_CKD_binary')\n",
    "columnslist.append('HbA1c')\n",
    "columnslist.append('Creatinine')\n",
    "columnslist.append('urate')\n",
    "columnslist.append('C_reactive_ptn')\n",
    "columnslist.append('CVD_firstdegree')\n",
    "#columnslist.append('firstoccur_event')\n",
    "columnslist.append('WHratio')\n",
    "\n",
    "df_final_temp = df_final_temp.dropna(subset=columnslist)\n",
    "df_final_temp.reset_index(inplace=True,drop=True)"
   ]
  },
  {
   "cell_type": "code",
   "execution_count": null,
   "id": "8fdd4871",
   "metadata": {},
   "outputs": [],
   "source": [
    "len(df_final_temp)"
   ]
  },
  {
   "cell_type": "code",
   "execution_count": null,
   "id": "2c1fb1ca",
   "metadata": {},
   "outputs": [],
   "source": [
    "df_final=df_final_temp\n",
    "df_stroke=pd.read_csv('UKB_data/ukb_first_occur_for_regression_2.csv')\n",
    "df_CHADVASC=pd.read_csv('UKB_data/ukb_first_occur_CHADVASC.csv')\n",
    "df_stroke['eid']=df_stroke['eid'].astype(int)\n",
    "df_CHADVASC['eid']=df_CHADVASC['eid'].astype(int)\n",
    "df_CHADVASC.drop(['I63_cerebral_infarction','I64_stroke_not_specified'],axis=1,inplace=True)"
   ]
  },
  {
   "cell_type": "code",
   "execution_count": null,
   "id": "920ba2e4",
   "metadata": {},
   "outputs": [],
   "source": [
    "df_final"
   ]
  },
  {
   "cell_type": "code",
   "execution_count": null,
   "id": "f71eb9cb",
   "metadata": {},
   "outputs": [],
   "source": [
    "np.sum(df_final['sex'])"
   ]
  },
  {
   "cell_type": "code",
   "execution_count": null,
   "id": "3cce83b0",
   "metadata": {},
   "outputs": [],
   "source": [
    "df_final=pd.merge(df_final, df_stroke, left_on='eid', right_on='eid', how='left')\n",
    "df_final=pd.merge(df_final, df_CHADVASC, left_on='eid', right_on='eid', how='left')"
   ]
  },
  {
   "cell_type": "code",
   "execution_count": null,
   "id": "4b512c31",
   "metadata": {},
   "outputs": [],
   "source": [
    "#df_final_afib=df_final[df_final['I48_afib_binary']==1]\n",
    "df_final_afib=df_final.copy()\n",
    "df_final_afib.reset_index(inplace=True,drop=True)\n",
    "df_final_afib['assess_date']=pd.to_datetime(df_final_afib['assess_date'])"
   ]
  },
  {
   "cell_type": "code",
   "execution_count": null,
   "id": "2ea7c46c",
   "metadata": {},
   "outputs": [],
   "source": [
    "CHADVASC_col=list(df_CHADVASC.columns)\n",
    "stroke_col=list(df_stroke.columns)\n",
    "CHADVASC_col=CHADVASC_col[1:]\n",
    "stroke_col=stroke_col[1:]\n",
    "\n",
    "for i in CHADVASC_col:\n",
    "    df_final_afib[i]=pd.to_datetime(df_final_afib[i])\n",
    "for i in stroke_col:\n",
    "    df_final_afib[i]=pd.to_datetime(df_final_afib[i])"
   ]
  },
  {
   "cell_type": "code",
   "execution_count": null,
   "id": "fab5e258",
   "metadata": {},
   "outputs": [],
   "source": [
    "for i in CHADVASC_col:\n",
    "    templist=[]\n",
    "    for j in range(len(df_final_afib)):\n",
    "        if df_final_afib[i][j]<=df_final_afib['assess_date'][j]:\n",
    "            templist.append(1)\n",
    "        else:\n",
    "            templist.append(0)\n",
    "    df_final_afib[i+'_binary']=templist\n",
    "    \n",
    "for i in stroke_col:\n",
    "    templist=[]\n",
    "    for j in range(len(df_final_afib)):\n",
    "        if df_final_afib[i][j]<=df_final_afib['assess_date'][j]:\n",
    "            templist.append(1)\n",
    "        else:\n",
    "            templist.append(0)\n",
    "    df_final_afib[i+'_binary']=templist\n",
    "    \n",
    "for i in stroke_col:\n",
    "    templist=[]\n",
    "    for j in range(len(df_final_afib)):\n",
    "        if df_final_afib[i][j]>df_final_afib['assess_date'][j]:\n",
    "            templist.append(1)\n",
    "        else:\n",
    "            templist.append(0)\n",
    "    df_final_afib[i+'_binary_post']=templist"
   ]
  },
  {
   "cell_type": "code",
   "execution_count": null,
   "id": "b120d3c4",
   "metadata": {},
   "outputs": [],
   "source": [
    "len(df_final_afib)"
   ]
  },
  {
   "cell_type": "code",
   "execution_count": null,
   "id": "d912ddad",
   "metadata": {},
   "outputs": [],
   "source": [
    "CHF_columns=['I50_heart_failure_binary']\n",
    "PVD_columns=['I70_atherosclerosis_binary']\n",
    "\n",
    "df_final_afib['CHD']=df_final_afib[CHF_columns].max(axis = 1, numeric_only = True)\n",
    "\n",
    "df_final_afib['PVD']=df_final_afib[PVD_columns].max(axis = 1, numeric_only = True)\n",
    "\n",
    "Stroke_post_columns=['I60_subarachnoid_haemorrhage_binary_post','I61_intracerebral_haemorrhage_binary_post','I62_other_haemorrhage_binary_post','I63_cerebral_infarction_binary_post','I64_stroke_not_specified_binary_post']\n",
    "\n",
    "df_final_afib['stroke_post']=df_final_afib[Stroke_post_columns].max(axis = 1, numeric_only = True)"
   ]
  },
  {
   "cell_type": "code",
   "execution_count": null,
   "id": "f65a0e3b",
   "metadata": {},
   "outputs": [],
   "source": [
    "for i in stroke_col:\n",
    "    templist=[]\n",
    "    for j in range(len(df_final_afib)):\n",
    "        if df_final_afib[i][j]>df_final_afib['assess_date'][j] and df_final_afib[i][j]<=(df_final_afib['assess_date'][j]+ pd.DateOffset(years=1)):\n",
    "            templist.append(1)\n",
    "        else:\n",
    "            templist.append(0)\n",
    "    df_final_afib[i+'_binary_post_1year']=templist"
   ]
  },
  {
   "cell_type": "code",
   "execution_count": null,
   "id": "f26c622e",
   "metadata": {},
   "outputs": [],
   "source": [
    "Stroke_post_1year_columns=['I60_subarachnoid_haemorrhage_binary_post_1year','I61_intracerebral_haemorrhage_binary_post_1year','I62_other_haemorrhage_binary_post_1year','I63_cerebral_infarction_binary_post_1year','I64_stroke_not_specified_binary_post_1year']\n",
    "\n",
    "df_final_afib['stroke_post_1year']=df_final_afib[Stroke_post_1year_columns].max(axis = 1, numeric_only = True)"
   ]
  },
  {
   "cell_type": "code",
   "execution_count": null,
   "id": "ed161e2d",
   "metadata": {},
   "outputs": [],
   "source": [
    "print(len(df_final_afib[df_final_afib['smoking']==1]))\n",
    "print(len(df_final_afib[df_final_afib['smoking']==2]))"
   ]
  },
  {
   "cell_type": "code",
   "execution_count": null,
   "id": "315b7c9f",
   "metadata": {},
   "outputs": [],
   "source": [
    "df_final_afib['firstoccur_date']=pd.to_datetime(df_final_afib['firstoccur_date'])\n",
    "for i in ['firstoccur_date']:\n",
    "    templist=[]\n",
    "    for j in range(len(df_final_afib)):\n",
    "        if df_final_afib[i][j]<=df_final_afib['assess_date'][j]:\n",
    "            templist.append(1)\n",
    "        else:\n",
    "            templist.append(0)\n",
    "    df_final_afib[i+'_binary']=templist"
   ]
  },
  {
   "cell_type": "code",
   "execution_count": null,
   "id": "a659f8e1",
   "metadata": {},
   "outputs": [],
   "source": [
    "import numpy as np\n",
    "\n",
    "# Define coefficients for men and women\n",
    "coefficients = {\n",
    "    'women': {\n",
    "        'age': 0.87938,\n",
    "        'smk': 0.51127,\n",
    "        'cvd': -0.03035,\n",
    "        'af': 1.20720,\n",
    "        'age65': 0.39796,\n",
    "        'dm': 1.07111,\n",
    "        'age65_dm': 0.06565,\n",
    "        'hrx': 0.13085,\n",
    "        'sbp_no_hrx': 0.11303,\n",
    "        'sbp_hrx': 0.17234,\n",
    "        'baseline_survival': 0.95911,\n",
    "        'M': 6.6170719\n",
    "    },\n",
    "    'men': {\n",
    "        'age': 0.49716,\n",
    "        'smk': 0.47254,\n",
    "        'cvd': 0.45341,\n",
    "        'af': 0.08064,\n",
    "        'age65': 0.45426,\n",
    "        'dm': 1.35304,\n",
    "        'age65_dm': 0.34385,\n",
    "        'hrx': 0.27323,\n",
    "        'sbp_no_hrx': 0.09793,\n",
    "        'sbp_hrx': 0.27323,\n",
    "        'baseline_survival': 0.94451,\n",
    "        'M': 4.4227101\n",
    "    }\n",
    "}\n",
    "\n",
    "# Define a function to calculate the linear combination (L) based on individual risk factors\n",
    "def calculate_L(gender, age, smk, cvd, af, dm, hrx, sbp):\n",
    "    coeff = coefficients[gender]\n",
    "    L = (coeff['age'] * (age / 10) +\n",
    "         coeff['smk'] * smk +\n",
    "         coeff['cvd'] * cvd +\n",
    "         coeff['af'] * af +\n",
    "         coeff['age65'] * (age >= 65) +\n",
    "         coeff['dm'] * (dm and age < 65) +\n",
    "         coeff['age65_dm'] * (dm and age >= 65) +\n",
    "         coeff['hrx'] * hrx +\n",
    "         coeff['sbp_no_hrx'] * ((sbp - 120) / 10) * (1-hrx) +\n",
    "         coeff['sbp_hrx'] * ((sbp - 120) / 10) * (hrx) )\n",
    "\n",
    "    return L\n",
    "\n",
    "# Define a function to calculate FSRP\n",
    "def calculate_FSRP(gender, age, smk, cvd, af, dm, hrx, sbp):\n",
    "    coeff = coefficients[gender]\n",
    "    L = calculate_L(gender, age, smk, cvd, af, dm, hrx, sbp)\n",
    "    S10 = coeff['baseline_survival']\n",
    "    M = coeff['M']\n",
    "    FSRP_10_year = 1 - S10**np.exp(L - M)\n",
    "    return FSRP_10_year\n",
    "\n",
    "# Example input (modify with actual patient data)\n",
    "gender = 'women'  # Choose between 'women' and 'men'\n",
    "age = 75\n",
    "smk = 1  # 1 if current smoker, else 0\n",
    "cvd = 1  # 1 if prevalent CVD, else 0\n",
    "af = 0   # 1 if prevalent AF, else 0\n",
    "dm = 0   # 1 if diabetes mellitus, else 0\n",
    "hrx = 1  # 1 if on antihypertensive medication, else 0\n",
    "sbp = 135  # Systolic blood pressure\n",
    "\n",
    "fsrp_score = calculate_FSRP(gender, age, smk, cvd, af, dm, hrx, sbp)\n",
    "fsrp_score*100"
   ]
  },
  {
   "cell_type": "code",
   "execution_count": null,
   "id": "7d6ad10e",
   "metadata": {},
   "outputs": [],
   "source": [
    "FSRP=[]\n",
    "for i in range(len(df_final_afib)):\n",
    "    if df_final_afib['sex'][i]==0:\n",
    "        gender2='women'\n",
    "    else:\n",
    "        gender2='men'\n",
    "        \n",
    "    age2=df_final_afib['age'][i]\n",
    "    \n",
    "    if df_final_afib['smoking'][i]==2:\n",
    "        smk2=1\n",
    "    else:\n",
    "        smk2=0\n",
    "        \n",
    "    if df_final_afib['firstoccur_date_binary'][i]==1 or df_final_afib['I50_heart_failure_binary'][i]==1 or df_final_afib['I70_atherosclerosis_binary'][i]==1:\n",
    "        cvd2=1\n",
    "    else:\n",
    "        cvd2=0\n",
    "        \n",
    "    if df_final_afib['I48_atrial_fibrillation_flutter_binary'][i]==1:\n",
    "        af2=1\n",
    "    else:\n",
    "        af2=0\n",
    "        \n",
    "    if df_final_afib['DM_final'][i]==1:\n",
    "        dm2=1\n",
    "    else:\n",
    "        dm2=0\n",
    "        \n",
    "    if df_final_afib['med_final'][i]==1:\n",
    "        hrx2=1\n",
    "    else:\n",
    "        hrx2=0\n",
    "        \n",
    "    sbp2=df_final_afib['SBP'][i]\n",
    "    \n",
    "    fsrp_score = calculate_FSRP(gender2, age2, smk2, cvd2, af2, dm2, hrx2, sbp2)\n",
    "    \n",
    "    FSRP.append(fsrp_score)\n"
   ]
  },
  {
   "cell_type": "code",
   "execution_count": null,
   "id": "6135c153",
   "metadata": {},
   "outputs": [],
   "source": [
    "df_final_afib['FSRP']=FSRP\n",
    "df_final_afib['FSRP']=df_final_afib['FSRP']*100"
   ]
  },
  {
   "cell_type": "code",
   "execution_count": null,
   "id": "1f4a2807",
   "metadata": {},
   "outputs": [],
   "source": [
    "plt.hist(df_final_afib['FSRP'],bins=20)"
   ]
  },
  {
   "cell_type": "code",
   "execution_count": null,
   "id": "e0d9ae07",
   "metadata": {},
   "outputs": [],
   "source": [
    "df_final_afib3=df_final_afib[df_final_afib['I60_subarachnoid_haemorrhage_binary']==0]\n",
    "df_final_afib3=df_final_afib3[df_final_afib3['I61_intracerebral_haemorrhage_binary']==0]\n",
    "df_final_afib3=df_final_afib3[df_final_afib3['I62_other_haemorrhage_binary']==0]\n",
    "df_final_afib3=df_final_afib3[df_final_afib3['I63_cerebral_infarction_binary']==0]\n",
    "df_final_afib3=df_final_afib3[df_final_afib3['I64_stroke_not_specified_binary']==0]"
   ]
  },
  {
   "cell_type": "code",
   "execution_count": null,
   "id": "352ff6a3",
   "metadata": {},
   "outputs": [],
   "source": [
    "LRcolumns=[]\n",
    "LRcolumns.append('age')\n",
    "LRcolumns.append('HDL')\n",
    "LRcolumns.append('LDL')\n",
    "LRcolumns.append('TG')\n",
    "LRcolumns.append('HbA1c')\n",
    "LRcolumns.append('SBP')\n",
    "LRcolumns.append('DBP')\n",
    "LRcolumns.append('BMI_x')\n",
    "LRcolumns.append('sex')\n",
    "LRcolumns.append('med_final')\n",
    "LRcolumns.append('DM_final')\n",
    "LRcolumns.append('E78_dyslipidemia_binary')\n",
    "LRcolumns.append('I48_afib_binary')\n",
    "LRcolumns.append('N18_CKD_binary')\n",
    "LRcolumns.append('I50_heart_failure_binary')\n",
    "LRcolumns.append('firstoccur_date_binary')\n",
    "LRcolumns.append('I70_atherosclerosis_binary')\n",
    "LRcolumns.append('CVD_firstdegree')\n",
    "LRcolumns.append('cig_final')\n",
    "\n",
    "LRcolumnsclean=[]\n",
    "LRcolumnsclean.append('age')\n",
    "LRcolumnsclean.append('HDL')\n",
    "LRcolumnsclean.append('LDL')\n",
    "LRcolumnsclean.append('TG')\n",
    "LRcolumnsclean.append('HbA1c')\n",
    "LRcolumnsclean.append('SBP')\n",
    "LRcolumnsclean.append('DBP')\n",
    "LRcolumnsclean.append('BMI')\n",
    "LRcolumnsclean.append('sex')\n",
    "LRcolumnsclean.append('HTN')\n",
    "LRcolumnsclean.append('DM')\n",
    "LRcolumnsclean.append('Dyslipidemia')\n",
    "LRcolumnsclean.append('Afib')\n",
    "LRcolumnsclean.append('CKD')\n",
    "LRcolumnsclean.append('CHF')\n",
    "LRcolumnsclean.append('CAD')\n",
    "LRcolumnsclean.append('PVD')\n",
    "LRcolumnsclean.append('CVDfamily')\n",
    "LRcolumnsclean.append('smoking')"
   ]
  },
  {
   "cell_type": "code",
   "execution_count": null,
   "id": "f7ad0dea",
   "metadata": {},
   "outputs": [],
   "source": [
    "X=df_final_afib3[LRcolumns]\n",
    "X.columns=LRcolumnsclean\n",
    "X.reset_index(inplace=True,drop=True)"
   ]
  },
  {
   "cell_type": "code",
   "execution_count": null,
   "id": "9491eb06",
   "metadata": {},
   "outputs": [],
   "source": [
    "smoking_ex=[]\n",
    "smoking_current=[]\n",
    "for i in range(len(X)):\n",
    "    if X['smoking'][i]==2:\n",
    "        smoking_current.append(1)\n",
    "        smoking_ex.append(0)\n",
    "    elif X['smoking'][i]==1:\n",
    "        smoking_current.append(0)\n",
    "        smoking_ex.append(1)\n",
    "    else:\n",
    "        smoking_current.append(0)\n",
    "        smoking_ex.append(0)\n",
    "        \n",
    "X.drop(['smoking'],axis=1,inplace=True)\n",
    "X['smoking_ex']=smoking_ex\n",
    "X['smoking_current']=smoking_current"
   ]
  },
  {
   "cell_type": "code",
   "execution_count": null,
   "id": "3736d4a9",
   "metadata": {
    "scrolled": true
   },
   "outputs": [],
   "source": [
    "y=line_fitter.predict(X)"
   ]
  },
  {
   "cell_type": "code",
   "execution_count": null,
   "id": "207caf7d",
   "metadata": {},
   "outputs": [],
   "source": [
    "df_final_afib3['y']=y"
   ]
  },
  {
   "cell_type": "code",
   "execution_count": null,
   "id": "336dbfde",
   "metadata": {},
   "outputs": [],
   "source": [
    "df_final_afib3.to_csv('20241030_GEMINI_df_final_afib_FSRP.csv',index=False)"
   ]
  },
  {
   "cell_type": "code",
   "execution_count": null,
   "id": "4d4cdb02",
   "metadata": {},
   "outputs": [],
   "source": [
    "from sklearn.metrics import roc_curve, auc\n",
    "fpr,tpr,thres=roc_curve(df_final_afib3['stroke_post'],df_final_afib3['FSRP'])\n",
    "auc(fpr, tpr)\n",
    "print(auc(fpr, tpr))\n",
    "print(np.mean(df_final_afib3['FSRP']))\n",
    "print(np.mean(df_final_afib3['stroke_post']))\n",
    "print(np.sum(df_final_afib3['stroke_post']))\n",
    "print(len(df_final_afib3))"
   ]
  },
  {
   "cell_type": "code",
   "execution_count": null,
   "id": "3e0bdcc5",
   "metadata": {},
   "outputs": [],
   "source": [
    "from sklearn.metrics import roc_curve, auc\n",
    "fpr,tpr,thres=roc_curve(df_final_afib3['stroke_post'],df_final_afib3['y'])\n",
    "auc(fpr, tpr)\n",
    "print(auc(fpr, tpr))\n",
    "print(np.mean(df_final_afib3['y']))\n",
    "print(np.mean(df_final_afib3['stroke_post']))\n",
    "print(np.sum(df_final_afib3['stroke_post']))\n",
    "print(len(df_final_afib3))"
   ]
  },
  {
   "cell_type": "code",
   "execution_count": null,
   "id": "68fe9d6c",
   "metadata": {},
   "outputs": [],
   "source": [
    "df_final_afib3.reset_index(inplace=True,drop=True)"
   ]
  },
  {
   "cell_type": "code",
   "execution_count": null,
   "id": "8e69d413",
   "metadata": {},
   "outputs": [],
   "source": [
    "df_final_afib3['first_stroke_diagnosis_time'] = df_final_afib3[['I60_subarachnoid_haemorrhage', 'I61_intracerebral_haemorrhage', \n",
    "                                 'I62_other_haemorrhage', 'I63_cerebral_infarction', \n",
    "                                 'I64_stroke_not_specified']].min(axis=1)"
   ]
  },
  {
   "cell_type": "code",
   "execution_count": null,
   "id": "02e18ac8",
   "metadata": {},
   "outputs": [],
   "source": [
    "df_final_afib3['assess_date'] = pd.to_datetime(df_final_afib3['assess_date'], errors='coerce')"
   ]
  },
  {
   "cell_type": "code",
   "execution_count": null,
   "id": "005720b0",
   "metadata": {},
   "outputs": [],
   "source": [
    "df_final_afib3['first_stroke_diagnosis_time'] = df_final_afib3['first_stroke_diagnosis_time'].fillna(pd.Timestamp('2021-10-25 00:00:00'))\n"
   ]
  },
  {
   "cell_type": "code",
   "execution_count": null,
   "id": "dec10bcd",
   "metadata": {},
   "outputs": [],
   "source": [
    "df_final_afib3['days_difference'] = (df_final_afib3['first_stroke_diagnosis_time'] - df_final_afib3['assess_date']).dt.days"
   ]
  },
  {
   "cell_type": "code",
   "execution_count": null,
   "id": "1d59f409",
   "metadata": {},
   "outputs": [],
   "source": [
    "from lifelines.utils import concordance_index"
   ]
  },
  {
   "cell_type": "code",
   "execution_count": null,
   "id": "5e2ef3d8",
   "metadata": {},
   "outputs": [],
   "source": [
    "concordance_index(df_final_afib3['days_difference'], -df_final_afib3['y'], df_final_afib3['stroke_post'])"
   ]
  },
  {
   "cell_type": "code",
   "execution_count": null,
   "id": "55a88c68",
   "metadata": {},
   "outputs": [],
   "source": [
    "concordance_index(df_final_afib3['days_difference'], -df_final_afib3['FSRP'], df_final_afib3['stroke_post'])"
   ]
  },
  {
   "cell_type": "code",
   "execution_count": null,
   "id": "e3a5312f",
   "metadata": {},
   "outputs": [],
   "source": [
    "CINDEX_cols=['Cindex_LLM','Cindex_FSRP']\n",
    "rows_list=[]\n",
    "\n",
    "for iiii in range(2000):\n",
    "    df_final_resample=df_final_afib3.sample(frac=1, replace=True)\n",
    "\n",
    "\n",
    "    cindex_LLM=concordance_index(df_final_resample['days_difference'], -df_final_resample['y'], df_final_resample['stroke_post'])\n",
    "    cindex_fsrp=concordance_index(df_final_resample['days_difference'], -df_final_resample['FSRP'], df_final_resample['stroke_post'])\n",
    "    \n",
    "    row = [\n",
    "        cindex_LLM,\n",
    "        cindex_fsrp\n",
    "    ]\n",
    "    rows_list.append(row)\n",
    "    if iiii%100==0:\n",
    "        print(iiii)\n",
    "CINDEX_df = pd.DataFrame(rows_list, columns=CINDEX_cols)    \n",
    "CINDEX_df.to_csv('20241030_GEMINI_stroke_CINDEX_bootstrap.csv',index=False)"
   ]
  },
  {
   "cell_type": "code",
   "execution_count": null,
   "id": "1493a314",
   "metadata": {},
   "outputs": [],
   "source": [
    "CINDEX_df['diff']=CINDEX_df['Cindex_LLM']-CINDEX_df['Cindex_FSRP']"
   ]
  },
  {
   "cell_type": "code",
   "execution_count": null,
   "id": "66987abc",
   "metadata": {},
   "outputs": [],
   "source": [
    "print(np.percentile(CINDEX_df['diff'],2.5))\n",
    "print(np.percentile(CINDEX_df['diff'],97.5))"
   ]
  },
  {
   "cell_type": "code",
   "execution_count": null,
   "id": "1e2358bc",
   "metadata": {},
   "outputs": [],
   "source": [
    "print(np.percentile(CINDEX_df['Cindex_LLM'],2.5))\n",
    "print(np.percentile(CINDEX_df['Cindex_LLM'],97.5))"
   ]
  },
  {
   "cell_type": "code",
   "execution_count": null,
   "id": "4c2d9a9b",
   "metadata": {},
   "outputs": [],
   "source": [
    "print(np.percentile(CINDEX_df['Cindex_FSRP'],2.5))\n",
    "print(np.percentile(CINDEX_df['Cindex_FSRP'],97.5))"
   ]
  },
  {
   "cell_type": "code",
   "execution_count": null,
   "id": "57af08a7",
   "metadata": {},
   "outputs": [],
   "source": []
  },
  {
   "cell_type": "code",
   "execution_count": null,
   "id": "e0964b0c",
   "metadata": {},
   "outputs": [],
   "source": []
  }
 ],
 "metadata": {
  "kernelspec": {
   "display_name": "rtx4090",
   "language": "python",
   "name": "rtx4090"
  },
  "language_info": {
   "codemirror_mode": {
    "name": "ipython",
    "version": 3
   },
   "file_extension": ".py",
   "mimetype": "text/x-python",
   "name": "python",
   "nbconvert_exporter": "python",
   "pygments_lexer": "ipython3",
   "version": "3.10.6"
  }
 },
 "nbformat": 4,
 "nbformat_minor": 5
}
